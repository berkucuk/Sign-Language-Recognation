{
 "cells": [
  {
   "cell_type": "code",
   "execution_count": 11,
   "metadata": {},
   "outputs": [],
   "source": [
    "import torch\n",
    "import torch.nn as nn\n",
    "import torchvision\n",
    "from torchvision import datasets, transforms\n",
    "\n",
    "device = torch.device(\"cuda\" if torch.cuda.is_available() else \"cpu\")\n",
    "torch.cuda.empty_cache()\n",
    "\n",
    "# Veri yolu - Klasördeki verilerin kategori alt klasörlerde bulunduğunu varsayalım.\n",
    "data_dir = 'lang/'\n",
    "\n",
    "# Veri dönüşümleri (örnek olarak)\n",
    "transform = transforms.Compose([\n",
    "    transforms.Resize((224, 224)),  # Görselleri istediğiniz boyuta dönüştürebilirsiniz\n",
    "    transforms.ToTensor(),          # Görselleri tensöre dönüştür\n",
    "    transforms.Normalize(mean=[0.485, 0.456, 0.406], std=[0.229, 0.224, 0.225]),  # Normalizasyon (örnek)\n",
    "])\n",
    "\n",
    "# Veri yükleyici parametreleri\n",
    "batch_size = 32\n",
    "num_workers = 4\n",
    "\n",
    "# Veriyi yükleyin\n",
    "dataset = datasets.ImageFolder(data_dir, transform=transform)\n",
    "#dataloader = torch.utils.data.DataLoader(dataset, batch_size=batch_size, shuffle=True, num_workers=num_workers)\n",
    "dataloader = torch.utils.data.DataLoader(dataset, batch_size=batch_size, shuffle=True, num_workers=num_workers, pin_memory=True)\n"
   ]
  },
  {
   "cell_type": "code",
   "execution_count": 12,
   "metadata": {},
   "outputs": [],
   "source": [
    "class CNNModel(nn.Module):\n",
    "    def __init__(self, num_classes):\n",
    "        super(CNNModel, self).__init__()\n",
    "        self.conv1 = nn.Conv2d(3, 32, kernel_size=3, stride=1, padding=1)\n",
    "        self.conv2 = nn.Conv2d(32, 64, kernel_size=3, stride=1, padding=1)\n",
    "        self.fc1 = nn.Linear(64 * 56 * 56, 128)  # Giriş boyutunu uygun şekilde ayarlayın\n",
    "        self.fc2 = nn.Linear(128, num_classes)\n",
    "\n",
    "    def forward(self, x):\n",
    "        x = nn.functional.relu(self.conv1(x))\n",
    "        x = nn.functional.max_pool2d(x, 2)\n",
    "        x = nn.functional.relu(self.conv2(x))\n",
    "        x = nn.functional.max_pool2d(x, 2)\n",
    "        x = x.view(x.size(0), -1)\n",
    "        x = nn.functional.relu(self.fc1(x))\n",
    "        x = self.fc2(x)\n",
    "        return x\n",
    "\n",
    "# Modeli oluştur\n",
    "num_classes = len(dataset.classes)  # Sınıf sayısı otomatik olarak belirlenir\n",
    "model = CNNModel(num_classes)\n",
    "model = model.to(device)\n"
   ]
  },
  {
   "cell_type": "code",
   "execution_count": 13,
   "metadata": {},
   "outputs": [
    {
     "name": "stdout",
     "output_type": "stream",
     "text": [
      "Epoch [1/10] Loss: 0.5321260690689087 Accuracy: 73.02820512820513\n",
      "Epoch [2/10] Loss: 0.3933107852935791 Accuracy: 81.28205128205128\n",
      "Epoch [3/10] Loss: 0.1911236196756363 Accuracy: 85.3923076923077\n",
      "Epoch [4/10] Loss: 0.04932805895805359 Accuracy: 87.99038461538461\n",
      "Epoch [5/10] Loss: 0.020229006186127663 Accuracy: 89.86410256410257\n",
      "Epoch [6/10] Loss: 0.2250216156244278 Accuracy: 91.23931623931624\n",
      "Epoch [7/10] Loss: 0.0021685909014195204 Accuracy: 92.3021978021978\n",
      "Epoch [8/10] Loss: 0.5739879608154297 Accuracy: 93.11410256410257\n",
      "Epoch [9/10] Loss: 0.0016689538024365902 Accuracy: 93.73675213675213\n",
      "Epoch [10/10] Loss: 0.0005498312530107796 Accuracy: 94.28153846153846\n"
     ]
    }
   ],
   "source": [
    "# Eğitim parametreleri\n",
    "learning_rate = 0.001\n",
    "num_epochs = 10\n",
    "\n",
    "# Kayıp fonksiyonu ve optimizasyon fonksiyonu\n",
    "criterion = nn.CrossEntropyLoss()\n",
    "optimizer = torch.optim.Adam(model.parameters(), lr=learning_rate)\n",
    "correct = 0\n",
    "total = 0\n",
    "\n",
    "# Eğitim döngüsü\n",
    "for epoch in range(num_epochs):\n",
    "    for images, labels in dataloader:\n",
    "        # İleri geçiş\n",
    "        images, labels = images.to(device), labels.to(device)\n",
    "\n",
    "        outputs = model(images)\n",
    "        loss = criterion(outputs, labels)\n",
    "\n",
    "        # Geriye doğru yayılım ve parametre güncelleme\n",
    "        optimizer.zero_grad()\n",
    "        loss.backward()\n",
    "        optimizer.step()\n",
    "\n",
    "        _, predicted = torch.max(outputs.data, 1)\n",
    "        total += labels.size(0)\n",
    "        correct += (predicted == labels).sum().item()\n",
    "\n",
    "    accuracy = 100 * correct / total\n",
    "\n",
    "    print(f'Epoch [{epoch+1}/{num_epochs}] Loss: {loss.item()} Accuracy: {accuracy}')\n"
   ]
  },
  {
   "cell_type": "code",
   "execution_count": 14,
   "metadata": {},
   "outputs": [],
   "source": [
    "# Modeli kaydet\n",
    "torch.save(model.state_dict(), 'sign.pth')"
   ]
  },
  {
   "cell_type": "code",
   "execution_count": 16,
   "metadata": {},
   "outputs": [
    {
     "data": {
      "text/plain": [
       "CNNModel(\n",
       "  (conv1): Conv2d(3, 32, kernel_size=(3, 3), stride=(1, 1), padding=(1, 1))\n",
       "  (conv2): Conv2d(32, 64, kernel_size=(3, 3), stride=(1, 1), padding=(1, 1))\n",
       "  (fc1): Linear(in_features=200704, out_features=128, bias=True)\n",
       "  (fc2): Linear(in_features=128, out_features=26, bias=True)\n",
       ")"
      ]
     },
     "execution_count": 16,
     "metadata": {},
     "output_type": "execute_result"
    }
   ],
   "source": [
    "# Model yapısını oluştur\n",
    "model = CNNModel(num_classes)  # Model yapısını aynı şekilde oluşturmalısınız\n",
    "\n",
    "# Kaydedilmiş parametreleri yükle\n",
    "model.load_state_dict(torch.load('sign.pth'))\n",
    "\n",
    "# Modeli tahminlerde kullanabilirsiniz\n",
    "model.eval()  # Modeli tahmin modunda etkinleştirin\n",
    "# Burada tahminlerinizi yapabilirsiniz\n"
   ]
  },
  {
   "cell_type": "code",
   "execution_count": 17,
   "metadata": {},
   "outputs": [],
   "source": [
    "import cv2\n",
    "from PIL import Image"
   ]
  },
  {
   "cell_type": "code",
   "execution_count": 18,
   "metadata": {},
   "outputs": [],
   "source": [
    "image_path = 'lang/k/k_1.jpg'  # Test görüntüsünün dosya yolu\n",
    "image = cv2.imread(image_path)\n",
    "image = cv2.cvtColor(image, cv2.COLOR_BGR2RGB)  # Görüntüyü BGR'den RGB'ye dönüştür\n",
    "image_pil = Image.fromarray(image)"
   ]
  },
  {
   "cell_type": "code",
   "execution_count": 19,
   "metadata": {},
   "outputs": [],
   "source": [
    "# Giriş görüntüsünü modele uygun hale getir\n",
    "transform = transforms.Compose([\n",
    "    transforms.Resize((224, 224)),\n",
    "    transforms.ToTensor(),\n",
    "    transforms.Normalize(mean=[0.485, 0.456, 0.406], std=[0.229, 0.224, 0.225])\n",
    "])\n",
    "input_image = transform(image_pil)\n",
    "input_image = input_image.unsqueeze(0)  # Batch boyutunu ekleyin (1 görüntü için)"
   ]
  },
  {
   "cell_type": "code",
   "execution_count": 20,
   "metadata": {},
   "outputs": [
    {
     "name": "stdout",
     "output_type": "stream",
     "text": [
      "Tahmin edilen sınıf: k\n"
     ]
    }
   ],
   "source": [
    "with torch.no_grad():\n",
    "    output = model(input_image)\n",
    "\n",
    "# Sınıflandırma sonuçlarını al\n",
    "_, predicted = torch.max(output, 1)\n",
    "\n",
    "# Sınıf tahminini bul\n",
    "class_index = predicted.item()\n",
    "class_label = dataset.classes[class_index]  # 'dataset' veri kümesinin sınıflarını içerdiğini varsayalım\n",
    "\n",
    "print(f'Tahmin edilen sınıf: {class_label}')"
   ]
  }
 ],
 "metadata": {
  "kernelspec": {
   "display_name": "base",
   "language": "python",
   "name": "python3"
  },
  "language_info": {
   "codemirror_mode": {
    "name": "ipython",
    "version": 3
   },
   "file_extension": ".py",
   "mimetype": "text/x-python",
   "name": "python",
   "nbconvert_exporter": "python",
   "pygments_lexer": "ipython3",
   "version": "3.11.5"
  }
 },
 "nbformat": 4,
 "nbformat_minor": 2
}
